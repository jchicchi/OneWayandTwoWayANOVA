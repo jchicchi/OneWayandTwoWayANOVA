{
  "metadata": {
    "kernelspec": {
      "name": "python",
      "display_name": "Python (Pyodide)",
      "language": "python"
    },
    "language_info": {
      "codemirror_mode": {
        "name": "python",
        "version": 3
      },
      "file_extension": ".py",
      "mimetype": "text/x-python",
      "name": "python",
      "nbconvert_exporter": "python",
      "pygments_lexer": "ipython3",
      "version": "3.8"
    }
  },
  "nbformat_minor": 5,
  "nbformat": 4,
  "cells": [
    {
      "cell_type": "markdown",
      "source": "## ANOVA\n\nNotes\n\nThe classic ANOVA is very powerful when the groups are normally distributed and have equal variances. However, when the groups have unequal variances, it is best to use the Welch ANOVA (pingouin.welch_anova()) that better controls for type I error (Liu 2015). The homogeneity of variances can be measured with the pingouin.homoscedasticity() function.",
      "metadata": {},
      "id": "1b4f033f"
    },
    {
      "cell_type": "markdown",
      "source": "The main idea of ANOVA is to partition the variance (sums of squares) into several components. For example, in one-way ANOVA:\n\n𝑆𝑆total=𝑆𝑆effect+𝑆𝑆error\n\n𝑆𝑆total=∑𝑖∑𝑗(𝑌𝑖𝑗−𝑌⎯⎯⎯⎯)^2\n\n𝑆𝑆effect=∑𝑖𝑛𝑖(𝑌𝑖⎯⎯⎯⎯⎯−𝑌⎯⎯⎯⎯)^2\n\n𝑆𝑆error=∑𝑖∑𝑗(𝑌𝑖𝑗−𝑌⎯⎯⎯⎯𝑖)^2",
      "metadata": {},
      "id": "15108062"
    },
    {
      "cell_type": "markdown",
      "source": "where 𝑖=1,...,𝑟;𝑗=1,...,𝑛𝑖, 𝑟 is the number of groups, and 𝑛𝑖 the number of observations for the 𝑖 th group.\n\nThe F-statistics is then defined as:\n\n𝐹∗=𝑀𝑆effect/𝑀𝑆error = 𝑆𝑆effect/(𝑟−1)/ 𝑆𝑆error/(𝑛𝑡−𝑟)\n\n\nand the p-value can be calculated using a F-distribution with 𝑟−1,𝑛𝑡−1 degrees of freedom.\n\nWhen the groups are balanced and have equal variances, the optimal post-hoc test is the Tukey-HSD test (pingouin.pairwise_tukey()). If the groups have unequal variances, the Games-Howell test is more adequate (pingouin.pairwise_gameshowell()).\n\nThe default effect size reported in Pingouin is the partial eta-square, which, for one-way ANOVA is the same as eta-square and generalized eta-square.\n\n𝜂2𝑝=𝑆𝑆effect𝑆𝑆effect+𝑆𝑆error\n\nMissing values are automatically removed. Results have been tested against R, Matlab and JASP.",
      "metadata": {},
      "id": "c38289ed"
    },
    {
      "cell_type": "markdown",
      "source": "## Flowchart\nhttps://pingouin-stats.org/guidelines.html#id5\n\n## Example",
      "metadata": {},
      "id": "ffe88a6e"
    },
    {
      "cell_type": "code",
      "source": "import pingouin as pg\n\n# Load an example dataset comparing pain threshold as a function of hair color\ndf = pg.read_dataset('anova')\n\n# 1. This is a between subject design, so the first step is to test for equality of variances\npg.homoscedasticity(data=df, dv='Pain threshold', group='Hair color')\n\n# 2. If the groups have equal variances, we can use a regular one-way ANOVA\npg.anova(data=df, dv='Pain threshold', between='Hair color')\n\n# 3. If there is a main effect, we can proceed to post-hoc Tukey test\npg.pairwise_tukey(data=df, dv='Pain threshold', between='Hair color')",
      "metadata": {},
      "execution_count": null,
      "outputs": [],
      "id": "23036061"
    },
    {
      "cell_type": "markdown",
      "source": "## Example: One Way",
      "metadata": {},
      "id": "a6e8864d"
    },
    {
      "cell_type": "code",
      "source": "import pingouin as pg\ndf = pg.read_dataset('anova')\naov = pg.anova(dv='Pain threshold', between='Hair color', data=df,\n               detailed=True)\naov.round(3)",
      "metadata": {},
      "execution_count": null,
      "outputs": [],
      "id": "a9b0c147"
    },
    {
      "cell_type": "markdown",
      "source": "Same but using a standard eta-squared instead of a partial eta-squared effect size. Also note how here we’re using the anova function directly as a method (= built-in function) of our pandas dataframe. In that case, we don’t have to specify data anymore.\n\n",
      "metadata": {},
      "id": "e6b5e7c2"
    },
    {
      "cell_type": "code",
      "source": "df.anova(dv='Pain threshold', between='Hair color', detailed=False,\n         effsize='n2')",
      "metadata": {},
      "execution_count": null,
      "outputs": [],
      "id": "b16d0e67"
    },
    {
      "cell_type": "markdown",
      "source": "Two-way ANOVA with balanced design\n\n",
      "metadata": {},
      "id": "a5e4396a"
    },
    {
      "cell_type": "code",
      "source": "data = pg.read_dataset('anova2')\ndata.anova(dv=\"Yield\", between=[\"Blend\", \"Crop\"]).round(3)",
      "metadata": {},
      "execution_count": null,
      "outputs": [],
      "id": "90368c13"
    },
    {
      "cell_type": "markdown",
      "source": "Two-way ANOVA with unbalanced design (requires statsmodels)\n\n",
      "metadata": {},
      "id": "6039106d"
    },
    {
      "cell_type": "code",
      "source": "data = pg.read_dataset('anova2_unbalanced')\ndata.anova(dv=\"Scores\", between=[\"Diet\", \"Exercise\"],\n           effsize=\"n2\").round(3)",
      "metadata": {},
      "execution_count": null,
      "outputs": [],
      "id": "47ff622f"
    },
    {
      "cell_type": "markdown",
      "source": "Three-way ANOVA, type 3 sums of squares (requires statsmodels)\n\n",
      "metadata": {},
      "id": "0cd2637e"
    },
    {
      "cell_type": "code",
      "source": "data = pg.read_dataset('anova3')\ndata.anova(dv='Cholesterol', between=['Sex', 'Risk', 'Drug'],\n           ss_type=3).round(3)",
      "metadata": {},
      "execution_count": null,
      "outputs": [],
      "id": "1cceac17"
    },
    {
      "cell_type": "markdown",
      "source": "## Non-Parametric Guideline\nhttps://pingouin-stats.org/guidelines.html#id7",
      "metadata": {},
      "id": "b3db8b1f"
    },
    {
      "cell_type": "code",
      "source": "import pingouin as pg\n\n# Load an example dataset comparing pain threshold as a function of hair color\ndf = pg.read_dataset('anova')\n\n# There are 4 independent groups in our dataset, we'll therefore use the Kruskal-Wallis test:\npg.kruskal(data=df, dv='Pain threshold', between='Hair color')",
      "metadata": {},
      "execution_count": null,
      "outputs": [],
      "id": "82e1b29d"
    }
  ]
}